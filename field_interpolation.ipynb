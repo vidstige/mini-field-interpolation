{
 "cells": [
  {
   "cell_type": "markdown",
   "id": "d21d57cd",
   "metadata": {},
   "source": [
    "Field Interpolation\n",
    "==============\n",
    "\n",
    "Given a set of samples of an unkown function, _estimate_ a function $f$\n"
   ]
  },
  {
   "cell_type": "code",
   "execution_count": null,
   "id": "88aa7341",
   "metadata": {},
   "outputs": [],
   "source": [
    "import seaborn as sns\n",
    "sns.set_theme()\n",
    "sns.set(style='darkgrid', context='talk', palette='Pastel1')\n"
   ]
  },
  {
   "cell_type": "code",
   "execution_count": null,
   "id": "8c6a8050",
   "metadata": {},
   "outputs": [],
   "source": [
    "import matplotlib.pyplot as plt\n",
    "plt.rcParams['figure.figsize'] = [12, 5]"
   ]
  },
  {
   "cell_type": "markdown",
   "id": "9a71c292",
   "metadata": {},
   "source": [
    "$$f(0) = -1$$\n",
    "$$f(1) = 0.2$$\n",
    "$$f(2) = 0.9$$\n",
    "$$f(3) = 2.1$$"
   ]
  },
  {
   "cell_type": "markdown",
   "id": "397a5c43",
   "metadata": {},
   "source": [
    "Estimate a line, $f(x) = kx + m$, using linear last squares\n",
    "\n",
    "$$-1 = k*0 + m$$\n",
    "$$0.2 = k*1 + m$$\n",
    "$$0.9 = k*2 + m$$\n",
    "$$2.1 = k*3 + m$$\n",
    "\n",
    "Or just\n",
    "\n",
    "$$\n",
    "\\begin{bmatrix}\n",
    "0 & 1 \\\\\n",
    "1 & 1 \\\\\n",
    "2 & 1 \\\\\n",
    "3 & 1 \\\\\n",
    "\\end{bmatrix}\n",
    "\\begin{bmatrix}\n",
    "k & m\n",
    "\\end{bmatrix}\n",
    "= \n",
    "\\begin{bmatrix}\n",
    "-1 \\\\ 0.2 \\\\ 0.9 \\\\ 2.1 \\\\\n",
    "\\end{bmatrix}$$\n",
    "$$Ax = b$$"
   ]
  },
  {
   "cell_type": "code",
   "execution_count": null,
   "id": "f59e689b",
   "metadata": {},
   "outputs": [],
   "source": [
    "import numpy as np\n",
    "\n",
    "# sampled points\n",
    "x = np.array([0, 1, 2, 3])\n",
    "y = np.array([-1, 0.2, 0.9, 2.1])\n",
    "\n",
    "A = np.vstack([x, np.ones(len(x))]).T\n",
    "k, m = np.linalg.lstsq(A, y, rcond=None)[0]"
   ]
  },
  {
   "cell_type": "code",
   "execution_count": null,
   "id": "5a490587",
   "metadata": {},
   "outputs": [],
   "source": [
    "plt.plot(x, y, 'o', label='Original data')\n",
    "plt.plot(x, k * x + m, label='Fitted line')\n",
    "plt.legend()\n",
    "plt.show()"
   ]
  },
  {
   "cell_type": "code",
   "execution_count": null,
   "id": "cbd8bbf6",
   "metadata": {},
   "outputs": [],
   "source": []
  }
 ],
 "metadata": {
  "kernelspec": {
   "display_name": "Python 3",
   "language": "python",
   "name": "python3"
  },
  "language_info": {
   "codemirror_mode": {
    "name": "ipython",
    "version": 3
   },
   "file_extension": ".py",
   "mimetype": "text/x-python",
   "name": "python",
   "nbconvert_exporter": "python",
   "pygments_lexer": "ipython3",
   "version": "3.6.9"
  }
 },
 "nbformat": 4,
 "nbformat_minor": 5
}
